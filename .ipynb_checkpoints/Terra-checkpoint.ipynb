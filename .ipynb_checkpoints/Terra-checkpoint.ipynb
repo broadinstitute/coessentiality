{
 "cells": [
  {
   "cell_type": "code",
   "execution_count": 1,
   "metadata": {},
   "outputs": [
    {
     "name": "stdout",
     "output_type": "stream",
     "text": [
      "['gene_pairs_script.py', '5000', '6000', '5']\n",
      "1it [00:17, 17.29s/it]^C\n",
      "Traceback (most recent call last):\n",
      "  File \"gene_pairs_script.py\", line 44, in <module>\n",
      "    calculate_pairs(start_index = int(sys.argv[1]), end_index= int(sys.argv[2]), chuck_num = int(sys.argv[3]))\n",
      "  File \"gene_pairs_script.py\", line 31, in calculate_pairs\n",
      "    model = sm.OLS(output, input).fit()\n",
      "  File \"/anaconda3/envs/CompBio/lib/python3.6/site-packages/statsmodels/regression/linear_model.py\", line 838, in __init__\n",
      "    hasconst=hasconst, **kwargs)\n",
      "  File \"/anaconda3/envs/CompBio/lib/python3.6/site-packages/statsmodels/regression/linear_model.py\", line 684, in __init__\n",
      "    weights=weights, hasconst=hasconst, **kwargs)\n",
      "  File \"/anaconda3/envs/CompBio/lib/python3.6/site-packages/statsmodels/regression/linear_model.py\", line 196, in __init__\n",
      "    super(RegressionModel, self).__init__(endog, exog, **kwargs)\n",
      "  File \"/anaconda3/envs/CompBio/lib/python3.6/site-packages/statsmodels/base/model.py\", line 216, in __init__\n",
      "    super(LikelihoodModel, self).__init__(endog, exog, **kwargs)\n",
      "  File \"/anaconda3/envs/CompBio/lib/python3.6/site-packages/statsmodels/base/model.py\", line 68, in __init__\n",
      "    **kwargs)\n",
      "  File \"/anaconda3/envs/CompBio/lib/python3.6/site-packages/statsmodels/base/model.py\", line 91, in _handle_data\n",
      "    data = handle_data(endog, exog, missing, hasconst, **kwargs)\n",
      "  File \"/anaconda3/envs/CompBio/lib/python3.6/site-packages/statsmodels/base/data.py\", line 635, in handle_data\n",
      "    **kwargs)\n",
      "  File \"/anaconda3/envs/CompBio/lib/python3.6/site-packages/statsmodels/base/data.py\", line 80, in __init__\n",
      "    self._handle_constant(hasconst)\n",
      "  File \"/anaconda3/envs/CompBio/lib/python3.6/site-packages/statsmodels/base/data.py\", line 169, in _handle_constant\n",
      "    rank_orig = np.linalg.matrix_rank(self.exog)\n",
      "  File \"<__array_function__ internals>\", line 6, in matrix_rank\n",
      "  File \"/anaconda3/envs/CompBio/lib/python3.6/site-packages/numpy/linalg/linalg.py\", line 1876, in matrix_rank\n",
      "    S = svd(M, compute_uv=False, hermitian=hermitian)\n",
      "  File \"<__array_function__ internals>\", line 6, in svd\n",
      "  File \"/anaconda3/envs/CompBio/lib/python3.6/site-packages/numpy/linalg/linalg.py\", line 1648, in svd\n",
      "    s = gufunc(a, signature=signature, extobj=extobj)\n",
      "KeyboardInterrupt\n",
      "1it [00:27, 27.96s/it]\n"
     ]
    }
   ],
   "source": [
    "#python3 gene_pairs_script.py 0 1000 0\n",
    "#python3 gene_pairs_script.py 1000 2000 1\n",
    "#python3 gene_pairs_script.py 2000 3000 2\n",
    "#python3 gene_pairs_script.py 3000 4000 3\n",
    "#python3 gene_pairs_script.py 4000 5000 4\n",
    "\n",
    "python3 gene_pairs_script.py 5000 6000 5\n",
    "python3 gene_pairs_script.py 6000 7000 6\n",
    "python3 gene_pairs_script.py 7000 8000 7\n",
    "python3 gene_pairs_script.py 8000 9000 8\n",
    "python3 gene_pairs_script.py 9000 10000 9\n",
    "\n",
    "python3 gene_pairs_script.py 10000 11000 10\n",
    "python3 gene_pairs_script.py 11000 12000 11\n",
    "python3 gene_pairs_script.py 12000 13000 12\n",
    "python3 gene_pairs_script.py 13000 14000 13\n",
    "python3 gene_pairs_script.py 14000 15000 14\n",
    "\n",
    "python3 gene_pairs_script.py 15000 16000 15\n",
    "python3 gene_pairs_script.py 16000 17000 16\n",
    "python3 gene_pairs_script.py 17000 18000 17"
   ]
  },
  {
   "cell_type": "code",
   "execution_count": 143,
   "metadata": {},
   "outputs": [],
   "source": []
  }
 ],
 "metadata": {
  "kernelspec": {
   "display_name": "Python 3",
   "language": "python",
   "name": "python3"
  },
  "language_info": {
   "codemirror_mode": {
    "name": "ipython",
    "version": 3
   },
   "file_extension": ".py",
   "mimetype": "text/x-python",
   "name": "python",
   "nbconvert_exporter": "python",
   "pygments_lexer": "ipython3",
   "version": "3.6.9"
  }
 },
 "nbformat": 4,
 "nbformat_minor": 4
}
