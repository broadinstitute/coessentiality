{
 "cells": [
  {
   "cell_type": "code",
   "execution_count": 1,
   "metadata": {},
   "outputs": [],
   "source": [
    "from taigapy import TaigaClient\n",
    "tc = TaigaClient()"
   ]
  },
  {
   "cell_type": "code",
   "execution_count": 5,
   "metadata": {},
   "outputs": [],
   "source": [
    "gene_effect = tc.get(name='avana-public-tentative-20q1-a9a6', version=3, file='gene_effect').T"
   ]
  },
  {
   "cell_type": "code",
   "execution_count": 7,
   "metadata": {},
   "outputs": [
    {
     "data": {
      "text/plain": [
       "Index(['A1BG', 'A1CF', 'A2M', 'A2ML1', 'A3GALT2', 'A4GALT', 'A4GNT', 'AAAS',\n",
       "       'AACS', 'AADAC',\n",
       "       ...\n",
       "       'ZWILCH', 'ZWINT', 'ZXDA', 'ZXDB', 'ZXDC', 'ZYG11A', 'ZYG11B', 'ZYX',\n",
       "       'ZZEF1', 'ZZZ3'],\n",
       "      dtype='object', length=18333)"
      ]
     },
     "execution_count": 7,
     "metadata": {},
     "output_type": "execute_result"
    }
   ],
   "source": [
    "gene_effect.index.str.split(' ').str.get(0)"
   ]
  },
  {
   "cell_type": "code",
   "execution_count": 19,
   "metadata": {},
   "outputs": [],
   "source": [
    "sample_info = tc.get(name='depmap-a0ab', version=6, file='sample_info')\n",
    "sample_info=sample_info.loc[:,['DepMap_ID','CCLE Name']]\n",
    "sample_info=sample_info.set_index('DepMap_ID')\n",
    "sample_info=sample_info.squeeze()"
   ]
  },
  {
   "cell_type": "code",
   "execution_count": 20,
   "metadata": {},
   "outputs": [
    {
     "data": {
      "text/plain": [
       "DepMap_ID\n",
       "ACH-000001                               NIHOVCAR3_OVARY\n",
       "ACH-000002       HL60_HAEMATOPOIETIC_AND_LYMPHOID_TISSUE\n",
       "ACH-000003                         CACO2_LARGE_INTESTINE\n",
       "ACH-000004        HEL_HAEMATOPOIETIC_AND_LYMPHOID_TISSUE\n",
       "ACH-000005    HEL9217_HAEMATOPOIETIC_AND_LYMPHOID_TISSUE\n",
       "                                 ...                    \n",
       "ACH-002708                             DL221_SOFT_TISSUE\n",
       "ACH-002709        CMS_HAEMATOPOIETIC_AND_LYMPHOID_TISSUE\n",
       "ACH-002710                          MPNST724_SOFT_TISSUE\n",
       "ACH-002711            UMHACC2A_UPPER_AERODIGESTIVE_TRACT\n",
       "ACH-002712                                    HACAT_SKIN\n",
       "Name: CCLE Name, Length: 2672, dtype: object"
      ]
     },
     "execution_count": 20,
     "metadata": {},
     "output_type": "execute_result"
    }
   ],
   "source": [
    "sample_info"
   ]
  },
  {
   "cell_type": "code",
   "execution_count": null,
   "metadata": {},
   "outputs": [],
   "source": []
  }
 ],
 "metadata": {
  "kernelspec": {
   "display_name": "Python 3",
   "language": "python",
   "name": "python3"
  },
  "language_info": {
   "codemirror_mode": {
    "name": "ipython",
    "version": 3
   },
   "file_extension": ".py",
   "mimetype": "text/x-python",
   "name": "python",
   "nbconvert_exporter": "python",
   "pygments_lexer": "ipython3",
   "version": "3.6.9"
  }
 },
 "nbformat": 4,
 "nbformat_minor": 4
}
